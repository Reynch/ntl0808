{
 "cells": [
  {
   "cell_type": "markdown",
   "id": "020dc281",
   "metadata": {},
   "source": [
    "## A new Markdown Cell"
   ]
  },
  {
   "cell_type": "code",
   "execution_count": 3,
   "id": "07ac71e5",
   "metadata": {},
   "outputs": [
    {
     "data": {
      "text/plain": [
       "['random', 'strings', 'list', 'hahahaha', 'jokes', 'are', 'funny']"
      ]
     },
     "execution_count": 3,
     "metadata": {},
     "output_type": "execute_result"
    }
   ],
   "source": [
    "#here is an example of something I'm working on\n",
    "\n",
    "random_words = ['random','strings','in','a','list','hahahaha','jokes','are','funny']\n",
    "\n",
    "x = [i for i in random_words if len(i)>2]\n",
    "x"
   ]
  },
  {
   "cell_type": "code",
   "execution_count": null,
   "id": "832e64ef",
   "metadata": {},
   "outputs": [],
   "source": []
  }
 ],
 "metadata": {
  "kernelspec": {
   "display_name": "Python 3 (ipykernel)",
   "language": "python",
   "name": "python3"
  },
  "language_info": {
   "codemirror_mode": {
    "name": "ipython",
    "version": 3
   },
   "file_extension": ".py",
   "mimetype": "text/x-python",
   "name": "python",
   "nbconvert_exporter": "python",
   "pygments_lexer": "ipython3",
   "version": "3.11.3"
  }
 },
 "nbformat": 4,
 "nbformat_minor": 5
}
